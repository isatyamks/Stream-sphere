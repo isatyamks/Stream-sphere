{
 "cells": [
  {
   "cell_type": "code",
   "execution_count": 26,
   "id": "e68dd929-8a30-4078-8ded-24ec8f09dd3d",
   "metadata": {},
   "outputs": [],
   "source": [
    "import numpy as np\n",
    "import pandas as pd\n"
   ]
  },
  {
   "cell_type": "code",
   "execution_count": 27,
   "id": "4308678a-f58f-4618-947a-0e6ae39aa8c2",
   "metadata": {},
   "outputs": [],
   "source": [
    "videos = pd.read_csv('datasets/videos_data.csv')"
   ]
  },
  {
   "cell_type": "code",
   "execution_count": 28,
   "id": "56aca5ba-29bb-4493-b3ec-4cda3657e664",
   "metadata": {},
   "outputs": [
    {
     "data": {
      "text/html": [
       "<div>\n",
       "<style scoped>\n",
       "    .dataframe tbody tr th:only-of-type {\n",
       "        vertical-align: middle;\n",
       "    }\n",
       "\n",
       "    .dataframe tbody tr th {\n",
       "        vertical-align: top;\n",
       "    }\n",
       "\n",
       "    .dataframe thead th {\n",
       "        text-align: right;\n",
       "    }\n",
       "</style>\n",
       "<table border=\"1\" class=\"dataframe\">\n",
       "  <thead>\n",
       "    <tr style=\"text-align: right;\">\n",
       "      <th></th>\n",
       "      <th>_id</th>\n",
       "      <th>videoFile</th>\n",
       "      <th>thumbnail</th>\n",
       "      <th>title</th>\n",
       "      <th>description</th>\n",
       "      <th>views</th>\n",
       "      <th>isPublished</th>\n",
       "      <th>categories</th>\n",
       "      <th>owner</th>\n",
       "      <th>createdAt</th>\n",
       "      <th>updatedAt</th>\n",
       "    </tr>\n",
       "  </thead>\n",
       "  <tbody>\n",
       "    <tr>\n",
       "      <th>0</th>\n",
       "      <td>66e6986f0c8eb3eec2831236</td>\n",
       "      <td>https://res.cloudinary.com/dybgs03yy/video/upl...</td>\n",
       "      <td>https://res.cloudinary.com/dybgs03yy/image/upl...</td>\n",
       "      <td>Journey Through the Amazon Rainforest</td>\n",
       "      <td>Explore the diverse ecosystems of the Amazon, ...</td>\n",
       "      <td>0</td>\n",
       "      <td>True</td>\n",
       "      <td>nature, adventure</td>\n",
       "      <td>6661c0330f0b5138c9819cf9</td>\n",
       "      <td>2024-09-15T08:18:55.102Z</td>\n",
       "      <td>2024-09-15T08:18:55.102Z</td>\n",
       "    </tr>\n",
       "    <tr>\n",
       "      <th>1</th>\n",
       "      <td>66e6986f0c8eb3eec2831237</td>\n",
       "      <td>https://res.cloudinary.com/dybgs03yy/video/upl...</td>\n",
       "      <td>https://res.cloudinary.com/dybgs03yy/image/upl...</td>\n",
       "      <td>The Future of Renewable Energy</td>\n",
       "      <td>An in-depth look into the innovations in renew...</td>\n",
       "      <td>0</td>\n",
       "      <td>True</td>\n",
       "      <td>science, environment</td>\n",
       "      <td>6661c0330f0b5138c9819cf9</td>\n",
       "      <td>2024-09-15T08:18:55.103Z</td>\n",
       "      <td>2024-09-15T08:18:55.103Z</td>\n",
       "    </tr>\n",
       "    <tr>\n",
       "      <th>2</th>\n",
       "      <td>66e6986f0c8eb3eec2831238</td>\n",
       "      <td>https://res.cloudinary.com/dybgs03yy/video/upl...</td>\n",
       "      <td>https://res.cloudinary.com/dybgs03yy/image/upl...</td>\n",
       "      <td>Mastering Digital Art</td>\n",
       "      <td>A comprehensive guide to digital painting tech...</td>\n",
       "      <td>0</td>\n",
       "      <td>True</td>\n",
       "      <td>art, education</td>\n",
       "      <td>6661c0330f0b5138c9819cf9</td>\n",
       "      <td>2024-09-15T08:18:55.103Z</td>\n",
       "      <td>2024-09-15T08:18:55.103Z</td>\n",
       "    </tr>\n",
       "  </tbody>\n",
       "</table>\n",
       "</div>"
      ],
      "text/plain": [
       "                        _id  \\\n",
       "0  66e6986f0c8eb3eec2831236   \n",
       "1  66e6986f0c8eb3eec2831237   \n",
       "2  66e6986f0c8eb3eec2831238   \n",
       "\n",
       "                                           videoFile  \\\n",
       "0  https://res.cloudinary.com/dybgs03yy/video/upl...   \n",
       "1  https://res.cloudinary.com/dybgs03yy/video/upl...   \n",
       "2  https://res.cloudinary.com/dybgs03yy/video/upl...   \n",
       "\n",
       "                                           thumbnail  \\\n",
       "0  https://res.cloudinary.com/dybgs03yy/image/upl...   \n",
       "1  https://res.cloudinary.com/dybgs03yy/image/upl...   \n",
       "2  https://res.cloudinary.com/dybgs03yy/image/upl...   \n",
       "\n",
       "                                   title  \\\n",
       "0  Journey Through the Amazon Rainforest   \n",
       "1         The Future of Renewable Energy   \n",
       "2                  Mastering Digital Art   \n",
       "\n",
       "                                         description  views  isPublished  \\\n",
       "0  Explore the diverse ecosystems of the Amazon, ...      0         True   \n",
       "1  An in-depth look into the innovations in renew...      0         True   \n",
       "2  A comprehensive guide to digital painting tech...      0         True   \n",
       "\n",
       "             categories                     owner                 createdAt  \\\n",
       "0     nature, adventure  6661c0330f0b5138c9819cf9  2024-09-15T08:18:55.102Z   \n",
       "1  science, environment  6661c0330f0b5138c9819cf9  2024-09-15T08:18:55.103Z   \n",
       "2        art, education  6661c0330f0b5138c9819cf9  2024-09-15T08:18:55.103Z   \n",
       "\n",
       "                  updatedAt  \n",
       "0  2024-09-15T08:18:55.102Z  \n",
       "1  2024-09-15T08:18:55.103Z  \n",
       "2  2024-09-15T08:18:55.103Z  "
      ]
     },
     "execution_count": 28,
     "metadata": {},
     "output_type": "execute_result"
    }
   ],
   "source": [
    "videos.head(3)"
   ]
  },
  {
   "cell_type": "code",
   "execution_count": 30,
   "id": "a56e96af-3d66-43f1-b7f3-2762450eac39",
   "metadata": {},
   "outputs": [],
   "source": [
    "def combine_and_split(row):\n",
    "    combined_text = f\"{row['title']} {row['description']} {row['categories']}\"\n",
    "    return combined_text.split()  \n",
    "\n",
    "\n",
    "videos['tags'] = videos.apply(combine_and_split, axis=1)\n",
    "\n"
   ]
  },
  {
   "cell_type": "code",
   "execution_count": 31,
   "id": "82122b08-2805-4245-be69-7f0442ba1a39",
   "metadata": {},
   "outputs": [
    {
     "data": {
      "text/plain": [
       "0     [Journey, Through, the, Amazon, Rainforest, Ex...\n",
       "1     [The, Future, of, Renewable, Energy, An, in-de...\n",
       "2     [Mastering, Digital, Art, A, comprehensive, gu...\n",
       "3     [Secrets, of, Ancient, Egypt, Discover, the, m...\n",
       "4     [A, Culinary, Journey, Through, Italy, Experie...\n",
       "                            ...                        \n",
       "94    [The, Power, of, Mindfulness:, Techniques, for...\n",
       "95    [Exploring, the, Universe:, The, Role, of, Spa...\n",
       "96    [The, Science, of, Nutrition:, Understanding, ...\n",
       "97    [The, Future, of, Space, Exploration:, Upcomin...\n",
       "98    [The, Psychology, of, Decision, Making:, How, ...\n",
       "Name: tags, Length: 99, dtype: object"
      ]
     },
     "execution_count": 31,
     "metadata": {},
     "output_type": "execute_result"
    }
   ],
   "source": [
    "videos['tags']"
   ]
  },
  {
   "cell_type": "code",
   "execution_count": null,
   "id": "cb68e95d-3462-4e47-8c2c-ac2ddb9a198c",
   "metadata": {},
   "outputs": [],
   "source": [
    "new = videos.drop(columns=['description','','keywords','cast','crew'])\n"
   ]
  },
  {
   "cell_type": "code",
   "execution_count": null,
   "id": "746fff66-b7c4-4d97-b480-3cf25dee85c1",
   "metadata": {},
   "outputs": [],
   "source": [
    "new['tags'] = new['tags'].apply(lambda x: \" \".join(x))\n",
    "new.head()"
   ]
  },
  {
   "cell_type": "code",
   "execution_count": 32,
   "id": "8c6842fe-e98d-4928-9d8f-472b4f9e528e",
   "metadata": {},
   "outputs": [],
   "source": [
    "from sklearn.feature_extraction.text import CountVectorizer\n",
    "cv = CountVectorizer(max_features=5000,stop_words='english')"
   ]
  },
  {
   "cell_type": "code",
   "execution_count": 37,
   "id": "7ef42568-744e-4c8d-856b-40ab863fea62",
   "metadata": {},
   "outputs": [],
   "source": [
    "videos['tags_str'] = videos['tags'].apply(lambda x: ' '.join(x) if isinstance(x, list) else x)"
   ]
  },
  {
   "cell_type": "code",
   "execution_count": 38,
   "id": "794da08c-e260-4e41-93b5-d866c55167e6",
   "metadata": {},
   "outputs": [],
   "source": [
    "vector = cv.fit_transform(videos['tags_str']).toarray()"
   ]
  },
  {
   "cell_type": "code",
   "execution_count": 39,
   "id": "8577f37d-3f06-4b1b-ad56-dddaca4a8152",
   "metadata": {},
   "outputs": [
    {
     "data": {
      "text/plain": [
       "(99, 764)"
      ]
     },
     "execution_count": 39,
     "metadata": {},
     "output_type": "execute_result"
    }
   ],
   "source": [
    "vector.shape"
   ]
  },
  {
   "cell_type": "code",
   "execution_count": 40,
   "id": "f836e1af-d9c2-45ea-9b03-251b9cc4b85f",
   "metadata": {},
   "outputs": [],
   "source": [
    "from sklearn.metrics.pairwise import cosine_similarity"
   ]
  },
  {
   "cell_type": "code",
   "execution_count": 41,
   "id": "acaa52f1-bdd7-433f-9b24-a21450a0f5ee",
   "metadata": {},
   "outputs": [],
   "source": [
    "similarity = cosine_similarity(vector)"
   ]
  },
  {
   "cell_type": "code",
   "execution_count": 42,
   "id": "99e666a0-93be-49c8-bbed-dd58f8fac8ad",
   "metadata": {},
   "outputs": [
    {
     "data": {
      "text/plain": [
       "array([[1.        , 0.        , 0.        , ..., 0.        , 0.03100868,\n",
       "        0.        ],\n",
       "       [0.        , 1.        , 0.        , ..., 0.09544271, 0.1422776 ,\n",
       "        0.        ],\n",
       "       [0.        , 0.        , 1.        , ..., 0.        , 0.        ,\n",
       "        0.03100868],\n",
       "       ...,\n",
       "       [0.        , 0.09544271, 0.        , ..., 1.        , 0.01720052,\n",
       "        0.17200523],\n",
       "       [0.03100868, 0.1422776 , 0.        , ..., 0.01720052, 1.        ,\n",
       "        0.01538462],\n",
       "       [0.        , 0.        , 0.03100868, ..., 0.17200523, 0.01538462,\n",
       "        1.        ]])"
      ]
     },
     "execution_count": 42,
     "metadata": {},
     "output_type": "execute_result"
    }
   ],
   "source": [
    "similarity"
   ]
  },
  {
   "cell_type": "code",
   "execution_count": 66,
   "id": "875fe8c8-c224-41ec-ae21-2b3f413385c1",
   "metadata": {},
   "outputs": [],
   "source": [
    "def recommend(title):\n",
    "\n",
    "    index = videos[videos['title'] == title].index[0]\n",
    "    distances = sorted(list(enumerate(similarity[index])), reverse=True, key=lambda x: x[1])\n",
    "    \n",
    "    for i in distances[1:6]:\n",
    "        print(videos.iloc[i[0]]['title'])\n"
   ]
  },
  {
   "cell_type": "code",
   "execution_count": 67,
   "id": "a6351bf4-1fdd-40ed-bce4-fa01cb9cae22",
   "metadata": {},
   "outputs": [
    {
     "name": "stdout",
     "output_type": "stream",
     "text": [
      "Exploring the Galapagos Islands\n",
      "Journey Through the Amazon Rainforest\n",
      "Exploring the World’s Most Dangerous Animal Encounters: What You Need to Know\n",
      "Cycling Through the Alps\n",
      "Exploring Volcanoes Around the World\n"
     ]
    }
   ],
   "source": [
    "recommend('Adventures in the Arctic')"
   ]
  },
  {
   "cell_type": "code",
   "execution_count": 61,
   "id": "82e37407-71b8-49f6-9dc8-db5665ab403b",
   "metadata": {},
   "outputs": [],
   "source": [
    "def recommend(title):\n",
    "    index = videos[videos['title'] == title].index[0]\n",
    "    \n",
    "    distances = sorted(list(enumerate(similarity[index])), reverse=True, key=lambda x: x[1])\n",
    "    \n",
    "    recommended_ids = []\n",
    "    for i in distances[1:6]: \n",
    "        recommended_ids.append(videos.iloc[i[0]]['_id'])\n",
    "    \n",
    "    return recommended_ids\n"
   ]
  },
  {
   "cell_type": "code",
   "execution_count": 62,
   "id": "f59451cd-3d1d-45c4-8f9d-415a96d7666a",
   "metadata": {},
   "outputs": [
    {
     "data": {
      "text/plain": [
       "['66e69ca32b1eb70a6795e624',\n",
       " '66e6986f0c8eb3eec2831247',\n",
       " '66e6986f0c8eb3eec2831249',\n",
       " '66e6b5bfe1c8a7042cf5b9b0',\n",
       " '66e6989ca4873093caea8595']"
      ]
     },
     "execution_count": 62,
     "metadata": {},
     "output_type": "execute_result"
    }
   ],
   "source": [
    "recommend('Introduction to JavaScript')"
   ]
  },
  {
   "cell_type": "code",
   "execution_count": null,
   "id": "f35fae78-a950-4834-8189-67dff4f23d6f",
   "metadata": {},
   "outputs": [],
   "source": []
  }
 ],
 "metadata": {
  "kernelspec": {
   "display_name": "Python 3 (ipykernel)",
   "language": "python",
   "name": "python3"
  },
  "language_info": {
   "codemirror_mode": {
    "name": "ipython",
    "version": 3
   },
   "file_extension": ".py",
   "mimetype": "text/x-python",
   "name": "python",
   "nbconvert_exporter": "python",
   "pygments_lexer": "ipython3",
   "version": "3.12.4"
  }
 },
 "nbformat": 4,
 "nbformat_minor": 5
}
